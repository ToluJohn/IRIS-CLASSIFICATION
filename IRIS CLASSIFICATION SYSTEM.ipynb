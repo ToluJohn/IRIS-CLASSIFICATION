{
 "cells": [
  {
   "cell_type": "code",
   "execution_count": 1,
   "metadata": {},
   "outputs": [],
   "source": [
    "import pandas as pd\n",
    "import numpy as np\n",
    "from sklearn.ensemble import RandomForestClassifier\n",
    "from sklearn.utils import shuffle\n",
    "from sklearn.model_selection import train_test_split\n",
    "from sklearn.preprocessing import LabelEncoder"
   ]
  },
  {
   "cell_type": "code",
   "execution_count": 6,
   "metadata": {},
   "outputs": [
    {
     "data": {
      "text/html": [
       "<div>\n",
       "<style scoped>\n",
       "    .dataframe tbody tr th:only-of-type {\n",
       "        vertical-align: middle;\n",
       "    }\n",
       "\n",
       "    .dataframe tbody tr th {\n",
       "        vertical-align: top;\n",
       "    }\n",
       "\n",
       "    .dataframe thead th {\n",
       "        text-align: right;\n",
       "    }\n",
       "</style>\n",
       "<table border=\"1\" class=\"dataframe\">\n",
       "  <thead>\n",
       "    <tr style=\"text-align: right;\">\n",
       "      <th></th>\n",
       "      <th>sepal length (cm)</th>\n",
       "      <th>sepal width (cm)</th>\n",
       "      <th>petal length (cm)</th>\n",
       "      <th>petal width (cm)</th>\n",
       "    </tr>\n",
       "  </thead>\n",
       "  <tbody>\n",
       "    <tr>\n",
       "      <th>0</th>\n",
       "      <td>5.1</td>\n",
       "      <td>3.5</td>\n",
       "      <td>1.4</td>\n",
       "      <td>0.2</td>\n",
       "    </tr>\n",
       "    <tr>\n",
       "      <th>1</th>\n",
       "      <td>4.9</td>\n",
       "      <td>3.0</td>\n",
       "      <td>1.4</td>\n",
       "      <td>0.2</td>\n",
       "    </tr>\n",
       "    <tr>\n",
       "      <th>2</th>\n",
       "      <td>4.7</td>\n",
       "      <td>3.2</td>\n",
       "      <td>1.3</td>\n",
       "      <td>0.2</td>\n",
       "    </tr>\n",
       "    <tr>\n",
       "      <th>3</th>\n",
       "      <td>4.6</td>\n",
       "      <td>3.1</td>\n",
       "      <td>1.5</td>\n",
       "      <td>0.2</td>\n",
       "    </tr>\n",
       "    <tr>\n",
       "      <th>4</th>\n",
       "      <td>5.0</td>\n",
       "      <td>3.6</td>\n",
       "      <td>1.4</td>\n",
       "      <td>0.2</td>\n",
       "    </tr>\n",
       "  </tbody>\n",
       "</table>\n",
       "</div>"
      ],
      "text/plain": [
       "   sepal length (cm)  sepal width (cm)  petal length (cm)  petal width (cm)\n",
       "0                5.1               3.5                1.4               0.2\n",
       "1                4.9               3.0                1.4               0.2\n",
       "2                4.7               3.2                1.3               0.2\n",
       "3                4.6               3.1                1.5               0.2\n",
       "4                5.0               3.6                1.4               0.2"
      ]
     },
     "execution_count": 6,
     "metadata": {},
     "output_type": "execute_result"
    }
   ],
   "source": [
    "from sklearn.datasets import load_iris\n",
    "iris= load_iris()\n",
    "df= pd.DataFrame(iris.data, columns= iris.feature_names)\n",
    "df.head()"
   ]
  },
  {
   "cell_type": "code",
   "execution_count": 7,
   "metadata": {},
   "outputs": [
    {
     "data": {
      "text/html": [
       "<div>\n",
       "<style scoped>\n",
       "    .dataframe tbody tr th:only-of-type {\n",
       "        vertical-align: middle;\n",
       "    }\n",
       "\n",
       "    .dataframe tbody tr th {\n",
       "        vertical-align: top;\n",
       "    }\n",
       "\n",
       "    .dataframe thead th {\n",
       "        text-align: right;\n",
       "    }\n",
       "</style>\n",
       "<table border=\"1\" class=\"dataframe\">\n",
       "  <thead>\n",
       "    <tr style=\"text-align: right;\">\n",
       "      <th></th>\n",
       "      <th>sepal length (cm)</th>\n",
       "      <th>sepal width (cm)</th>\n",
       "      <th>petal length (cm)</th>\n",
       "      <th>petal width (cm)</th>\n",
       "      <th>species</th>\n",
       "    </tr>\n",
       "  </thead>\n",
       "  <tbody>\n",
       "    <tr>\n",
       "      <th>0</th>\n",
       "      <td>5.1</td>\n",
       "      <td>3.5</td>\n",
       "      <td>1.4</td>\n",
       "      <td>0.2</td>\n",
       "      <td>setosa</td>\n",
       "    </tr>\n",
       "    <tr>\n",
       "      <th>1</th>\n",
       "      <td>4.9</td>\n",
       "      <td>3.0</td>\n",
       "      <td>1.4</td>\n",
       "      <td>0.2</td>\n",
       "      <td>setosa</td>\n",
       "    </tr>\n",
       "    <tr>\n",
       "      <th>2</th>\n",
       "      <td>4.7</td>\n",
       "      <td>3.2</td>\n",
       "      <td>1.3</td>\n",
       "      <td>0.2</td>\n",
       "      <td>setosa</td>\n",
       "    </tr>\n",
       "    <tr>\n",
       "      <th>3</th>\n",
       "      <td>4.6</td>\n",
       "      <td>3.1</td>\n",
       "      <td>1.5</td>\n",
       "      <td>0.2</td>\n",
       "      <td>setosa</td>\n",
       "    </tr>\n",
       "    <tr>\n",
       "      <th>4</th>\n",
       "      <td>5.0</td>\n",
       "      <td>3.6</td>\n",
       "      <td>1.4</td>\n",
       "      <td>0.2</td>\n",
       "      <td>setosa</td>\n",
       "    </tr>\n",
       "  </tbody>\n",
       "</table>\n",
       "</div>"
      ],
      "text/plain": [
       "   sepal length (cm)  sepal width (cm)  petal length (cm)  petal width (cm)  \\\n",
       "0                5.1               3.5                1.4               0.2   \n",
       "1                4.9               3.0                1.4               0.2   \n",
       "2                4.7               3.2                1.3               0.2   \n",
       "3                4.6               3.1                1.5               0.2   \n",
       "4                5.0               3.6                1.4               0.2   \n",
       "\n",
       "  species  \n",
       "0  setosa  \n",
       "1  setosa  \n",
       "2  setosa  \n",
       "3  setosa  \n",
       "4  setosa  "
      ]
     },
     "execution_count": 7,
     "metadata": {},
     "output_type": "execute_result"
    }
   ],
   "source": [
    "df['species']= pd.Categorical.from_codes(iris.target, iris.target_names)\n",
    "df.head()"
   ]
  },
  {
   "cell_type": "code",
   "execution_count": 8,
   "metadata": {},
   "outputs": [
    {
     "data": {
      "text/plain": [
       "(150, 5)"
      ]
     },
     "execution_count": 8,
     "metadata": {},
     "output_type": "execute_result"
    }
   ],
   "source": [
    "df.shape"
   ]
  },
  {
   "cell_type": "code",
   "execution_count": 12,
   "metadata": {},
   "outputs": [],
   "source": [
    "X= df.iloc[:,:3].values\n",
    "y= df.iloc[:,4].values"
   ]
  },
  {
   "cell_type": "code",
   "execution_count": 13,
   "metadata": {},
   "outputs": [
    {
     "data": {
      "text/plain": [
       "[setosa, setosa, setosa, setosa, setosa, ..., virginica, virginica, virginica, virginica, virginica]\n",
       "Length: 150\n",
       "Categories (3, object): [setosa, versicolor, virginica]"
      ]
     },
     "execution_count": 13,
     "metadata": {},
     "output_type": "execute_result"
    }
   ],
   "source": [
    "y"
   ]
  },
  {
   "cell_type": "code",
   "execution_count": 14,
   "metadata": {},
   "outputs": [
    {
     "data": {
      "text/plain": [
       "array([0, 0, 0, 0, 0, 0, 0, 0, 0, 0, 0, 0, 0, 0, 0, 0, 0, 0, 0, 0, 0, 0,\n",
       "       0, 0, 0, 0, 0, 0, 0, 0, 0, 0, 0, 0, 0, 0, 0, 0, 0, 0, 0, 0, 0, 0,\n",
       "       0, 0, 0, 0, 0, 0, 1, 1, 1, 1, 1, 1, 1, 1, 1, 1, 1, 1, 1, 1, 1, 1,\n",
       "       1, 1, 1, 1, 1, 1, 1, 1, 1, 1, 1, 1, 1, 1, 1, 1, 1, 1, 1, 1, 1, 1,\n",
       "       1, 1, 1, 1, 1, 1, 1, 1, 1, 1, 1, 1, 2, 2, 2, 2, 2, 2, 2, 2, 2, 2,\n",
       "       2, 2, 2, 2, 2, 2, 2, 2, 2, 2, 2, 2, 2, 2, 2, 2, 2, 2, 2, 2, 2, 2,\n",
       "       2, 2, 2, 2, 2, 2, 2, 2, 2, 2, 2, 2, 2, 2, 2, 2, 2, 2])"
      ]
     },
     "execution_count": 14,
     "metadata": {},
     "output_type": "execute_result"
    }
   ],
   "source": [
    "encoder= LabelEncoder()\n",
    "Y= encoder.fit_transform(y)\n",
    "Y"
   ]
  },
  {
   "cell_type": "code",
   "execution_count": 15,
   "metadata": {},
   "outputs": [],
   "source": [
    "X,Y= shuffle(X,Y, random_state=0)"
   ]
  },
  {
   "cell_type": "code",
   "execution_count": 16,
   "metadata": {},
   "outputs": [],
   "source": [
    "x_train,x_test,y_train, y_test= train_test_split(X,Y, test_size=0.25, random_state=0)"
   ]
  },
  {
   "cell_type": "code",
   "execution_count": 17,
   "metadata": {},
   "outputs": [
    {
     "data": {
      "text/plain": [
       "array([[4.8, 3.1, 1.6],\n",
       "       [6.2, 3.4, 5.4],\n",
       "       [6.4, 2.9, 4.3],\n",
       "       [5.5, 4.2, 1.4],\n",
       "       [5.9, 3.2, 4.8],\n",
       "       [5. , 3.5, 1.6],\n",
       "       [6.1, 2.6, 5.6],\n",
       "       [6. , 3.4, 4.5],\n",
       "       [7.9, 3.8, 6.4],\n",
       "       [5.1, 3.7, 1.5],\n",
       "       [6. , 3. , 4.8],\n",
       "       [5.7, 2.8, 4.5],\n",
       "       [4.3, 3. , 1.1],\n",
       "       [5.5, 2.4, 3.7],\n",
       "       [4.9, 2.5, 4.5],\n",
       "       [7.2, 3.6, 6.1],\n",
       "       [4.7, 3.2, 1.6],\n",
       "       [6.7, 3. , 5. ],\n",
       "       [4.9, 3.1, 1.5],\n",
       "       [6.3, 2.9, 5.6],\n",
       "       [5.6, 2.5, 3.9],\n",
       "       [5.8, 2.7, 4.1],\n",
       "       [6.5, 3. , 5.8],\n",
       "       [6.4, 3.1, 5.5],\n",
       "       [5.4, 3.9, 1.7],\n",
       "       [5.7, 2.5, 5. ],\n",
       "       [5.6, 2.9, 3.6],\n",
       "       [6.5, 3.2, 5.1],\n",
       "       [4.5, 2.3, 1.3],\n",
       "       [5. , 3.3, 1.4],\n",
       "       [6. , 2.2, 5. ],\n",
       "       [6.5, 2.8, 4.6],\n",
       "       [5.1, 3.3, 1.7],\n",
       "       [6.9, 3.1, 5.4],\n",
       "       [5.6, 2.8, 4.9],\n",
       "       [4.9, 3.6, 1.4],\n",
       "       [6.3, 3.3, 4.7],\n",
       "       [7.3, 2.9, 6.3],\n",
       "       [4.6, 3.2, 1.4],\n",
       "       [7.2, 3. , 5.8],\n",
       "       [5. , 3.5, 1.3],\n",
       "       [5.3, 3.7, 1.5],\n",
       "       [6.6, 3. , 4.4],\n",
       "       [4.4, 3.2, 1.3],\n",
       "       [6.1, 2.8, 4.7],\n",
       "       [5.5, 2.3, 4. ],\n",
       "       [5.8, 4. , 1.2],\n",
       "       [7.6, 3. , 6.6],\n",
       "       [5.8, 2.7, 3.9],\n",
       "       [6.5, 3. , 5.5],\n",
       "       [6.4, 3.2, 4.5],\n",
       "       [5. , 3.2, 1.2],\n",
       "       [7.4, 2.8, 6.1],\n",
       "       [4.7, 3.2, 1.3],\n",
       "       [7.7, 3.8, 6.7],\n",
       "       [6. , 2.2, 4. ],\n",
       "       [5.4, 3.4, 1.5],\n",
       "       [6.6, 2.9, 4.6],\n",
       "       [6.9, 3.1, 5.1],\n",
       "       [5. , 3.4, 1.5],\n",
       "       [5.7, 2.6, 3.5],\n",
       "       [5.5, 2.6, 4.4],\n",
       "       [5.9, 3. , 4.2],\n",
       "       [6.3, 3.3, 6. ],\n",
       "       [5.5, 2.4, 3.8],\n",
       "       [5.5, 3.5, 1.3],\n",
       "       [5.1, 3.5, 1.4],\n",
       "       [5.8, 2.8, 5.1],\n",
       "       [6.4, 2.8, 5.6],\n",
       "       [5. , 2.3, 3.3],\n",
       "       [6.3, 2.8, 5.1],\n",
       "       [4.6, 3.1, 1.5],\n",
       "       [5.2, 2.7, 3.9],\n",
       "       [4.4, 2.9, 1.4],\n",
       "       [6.9, 3.1, 4.9],\n",
       "       [5.4, 3. , 4.5],\n",
       "       [5.2, 4.1, 1.5],\n",
       "       [6.3, 2.5, 5. ],\n",
       "       [6.7, 3. , 5.2],\n",
       "       [5.5, 2.5, 4. ],\n",
       "       [5.2, 3.5, 1.5],\n",
       "       [5.1, 3.4, 1.5],\n",
       "       [6.1, 2.9, 4.7],\n",
       "       [5.1, 3.8, 1.5],\n",
       "       [5.4, 3.9, 1.3],\n",
       "       [5. , 3.4, 1.6],\n",
       "       [6.4, 3.2, 5.3],\n",
       "       [6.7, 2.5, 5.8],\n",
       "       [6.7, 3.1, 5.6],\n",
       "       [5.1, 3.5, 1.4],\n",
       "       [4.8, 3. , 1.4],\n",
       "       [6.2, 2.2, 4.5],\n",
       "       [4.9, 2.4, 3.3],\n",
       "       [4.9, 3.1, 1.5],\n",
       "       [5.4, 3.4, 1.7],\n",
       "       [5.1, 2.5, 3. ],\n",
       "       [4.6, 3.6, 1. ],\n",
       "       [5.7, 2.9, 4.2],\n",
       "       [5.6, 3. , 4.1],\n",
       "       [6.3, 2.3, 4.4],\n",
       "       [5.8, 2.6, 4. ],\n",
       "       [7. , 3.2, 4.7],\n",
       "       [4.8, 3.4, 1.6],\n",
       "       [6.4, 2.7, 5.3],\n",
       "       [5.1, 3.8, 1.6],\n",
       "       [5.7, 3.8, 1.7],\n",
       "       [5.6, 3. , 4.5],\n",
       "       [6.1, 2.8, 4. ],\n",
       "       [6.8, 3.2, 5.9],\n",
       "       [7.2, 3.2, 6. ],\n",
       "       [6.7, 3.1, 4.4],\n",
       "       [6.7, 3.3, 5.7]])"
      ]
     },
     "execution_count": 17,
     "metadata": {},
     "output_type": "execute_result"
    }
   ],
   "source": [
    "x_train"
   ]
  },
  {
   "cell_type": "code",
   "execution_count": 18,
   "metadata": {},
   "outputs": [
    {
     "data": {
      "text/plain": [
       "array([0, 2, 1, 0, 1, 0, 2, 1, 2, 0, 2, 1, 0, 1, 2, 2, 0, 1, 0, 2, 1, 1,\n",
       "       2, 2, 0, 2, 1, 2, 0, 0, 2, 1, 0, 2, 2, 0, 1, 2, 0, 2, 0, 0, 1, 0,\n",
       "       1, 1, 0, 2, 1, 2, 1, 0, 2, 0, 2, 1, 0, 1, 2, 0, 1, 1, 1, 2, 1, 0,\n",
       "       0, 2, 2, 1, 2, 0, 1, 0, 1, 1, 0, 2, 2, 1, 0, 0, 1, 0, 0, 0, 2, 2,\n",
       "       2, 0, 0, 1, 1, 0, 0, 1, 0, 1, 1, 1, 1, 1, 0, 2, 0, 0, 1, 1, 2, 2,\n",
       "       1, 2])"
      ]
     },
     "execution_count": 18,
     "metadata": {},
     "output_type": "execute_result"
    }
   ],
   "source": [
    "y_train"
   ]
  },
  {
   "cell_type": "code",
   "execution_count": 19,
   "metadata": {},
   "outputs": [],
   "source": [
    "clf= RandomForestClassifier(n_jobs=2, random_state=0)"
   ]
  },
  {
   "cell_type": "code",
   "execution_count": 21,
   "metadata": {},
   "outputs": [
    {
     "data": {
      "text/plain": [
       "array([2, 2, 2, 0, 1, 0, 2, 2, 2, 1, 0, 2, 0, 2, 1, 2, 0, 2, 1, 1, 2, 1,\n",
       "       2, 1, 2, 0, 0, 0, 0, 0, 2, 2, 1, 1, 2, 2, 0, 2])"
      ]
     },
     "execution_count": 21,
     "metadata": {},
     "output_type": "execute_result"
    }
   ],
   "source": [
    "clf.fit(x_train,y_train)\n",
    "y_pred= clf.predict(x_test)\n",
    "y_pred"
   ]
  },
  {
   "cell_type": "code",
   "execution_count": 22,
   "metadata": {},
   "outputs": [
    {
     "data": {
      "text/plain": [
       "array([2, 2, 2, 0, 1])"
      ]
     },
     "execution_count": 22,
     "metadata": {},
     "output_type": "execute_result"
    }
   ],
   "source": [
    "y_value= clf.predict(x_test[0:5])\n",
    "y_value"
   ]
  },
  {
   "cell_type": "code",
   "execution_count": 23,
   "metadata": {},
   "outputs": [
    {
     "data": {
      "text/plain": [
       "array(['virginica', 'virginica', 'virginica', 'setosa', 'versicolor'],\n",
       "      dtype='<U10')"
      ]
     },
     "execution_count": 23,
     "metadata": {},
     "output_type": "execute_result"
    }
   ],
   "source": [
    "pred_name= iris.target_names[clf.predict(x_test[0:5])]\n",
    "pred_name"
   ]
  },
  {
   "cell_type": "code",
   "execution_count": 28,
   "metadata": {},
   "outputs": [
    {
     "data": {
      "text/plain": [
       "array(['virginica', 'virginica', 'virginica', 'setosa', 'versicolor'],\n",
       "      dtype='<U10')"
      ]
     },
     "execution_count": 28,
     "metadata": {},
     "output_type": "execute_result"
    }
   ],
   "source": [
    "true_names= iris.target_names[y_test[0:5]]\n",
    "true_names"
   ]
  },
  {
   "cell_type": "code",
   "execution_count": 29,
   "metadata": {},
   "outputs": [
    {
     "data": {
      "text/plain": [
       "array([[0.  , 0.01, 0.99],\n",
       "       [0.  , 0.12, 0.88],\n",
       "       [0.  , 0.28, 0.72],\n",
       "       [0.99, 0.01, 0.  ],\n",
       "       [0.01, 0.96, 0.03]])"
      ]
     },
     "execution_count": 29,
     "metadata": {},
     "output_type": "execute_result"
    }
   ],
   "source": [
    "y_pred_probab= clf.predict_proba(x_test[0:5])\n",
    "y_pred_probab"
   ]
  },
  {
   "cell_type": "code",
   "execution_count": 32,
   "metadata": {},
   "outputs": [
    {
     "data": {
      "text/html": [
       "<div>\n",
       "<style scoped>\n",
       "    .dataframe tbody tr th:only-of-type {\n",
       "        vertical-align: middle;\n",
       "    }\n",
       "\n",
       "    .dataframe tbody tr th {\n",
       "        vertical-align: top;\n",
       "    }\n",
       "\n",
       "    .dataframe thead th {\n",
       "        text-align: right;\n",
       "    }\n",
       "</style>\n",
       "<table border=\"1\" class=\"dataframe\">\n",
       "  <thead>\n",
       "    <tr style=\"text-align: right;\">\n",
       "      <th>Predicted_names</th>\n",
       "      <th>setosa</th>\n",
       "      <th>versicolor</th>\n",
       "      <th>virginica</th>\n",
       "    </tr>\n",
       "    <tr>\n",
       "      <th>Actual_names</th>\n",
       "      <th></th>\n",
       "      <th></th>\n",
       "      <th></th>\n",
       "    </tr>\n",
       "  </thead>\n",
       "  <tbody>\n",
       "    <tr>\n",
       "      <th>setosa</th>\n",
       "      <td>11</td>\n",
       "      <td>0</td>\n",
       "      <td>0</td>\n",
       "    </tr>\n",
       "    <tr>\n",
       "      <th>versicolor</th>\n",
       "      <td>0</td>\n",
       "      <td>9</td>\n",
       "      <td>2</td>\n",
       "    </tr>\n",
       "    <tr>\n",
       "      <th>virginica</th>\n",
       "      <td>0</td>\n",
       "      <td>0</td>\n",
       "      <td>16</td>\n",
       "    </tr>\n",
       "  </tbody>\n",
       "</table>\n",
       "</div>"
      ],
      "text/plain": [
       "Predicted_names  setosa  versicolor  virginica\n",
       "Actual_names                                  \n",
       "setosa               11           0          0\n",
       "versicolor            0           9          2\n",
       "virginica             0           0         16"
      ]
     },
     "execution_count": 32,
     "metadata": {},
     "output_type": "execute_result"
    }
   ],
   "source": [
    "# DEVELOP A CONSUFION MATRIX USING CROSS TABULATION\n",
    "data= pd.crosstab(iris.target_names[y_test], iris.target_names[y_pred], rownames=['Actual_names'], colnames=['Predicted_names'])\n",
    "data"
   ]
  },
  {
   "cell_type": "code",
   "execution_count": 34,
   "metadata": {},
   "outputs": [
    {
     "data": {
      "text/plain": [
       "array([[11,  0,  0],\n",
       "       [ 0,  9,  2],\n",
       "       [ 0,  0, 16]], dtype=int64)"
      ]
     },
     "execution_count": 34,
     "metadata": {},
     "output_type": "execute_result"
    }
   ],
   "source": [
    "from sklearn.metrics import confusion_matrix\n",
    "confusion_matrix(y_test,y_pred)"
   ]
  },
  {
   "cell_type": "code",
   "execution_count": 36,
   "metadata": {},
   "outputs": [
    {
     "data": {
      "text/plain": [
       "94.73684210526315"
      ]
     },
     "execution_count": 36,
     "metadata": {},
     "output_type": "execute_result"
    }
   ],
   "source": [
    "from sklearn.metrics import accuracy_score\n",
    "accuracy_score(y_test,y_pred)*100"
   ]
  },
  {
   "cell_type": "code",
   "execution_count": null,
   "metadata": {},
   "outputs": [],
   "source": []
  }
 ],
 "metadata": {
  "kernelspec": {
   "display_name": "Python 3",
   "language": "python",
   "name": "python3"
  },
  "language_info": {
   "codemirror_mode": {
    "name": "ipython",
    "version": 3
   },
   "file_extension": ".py",
   "mimetype": "text/x-python",
   "name": "python",
   "nbconvert_exporter": "python",
   "pygments_lexer": "ipython3",
   "version": "3.7.6"
  }
 },
 "nbformat": 4,
 "nbformat_minor": 4
}
